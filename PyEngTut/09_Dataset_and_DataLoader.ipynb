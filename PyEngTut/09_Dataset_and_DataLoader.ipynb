{
 "cells": [
  {
   "cell_type": "markdown",
   "metadata": {},
   "source": [
    "# 09 Dataset and DataLoader"
   ]
  },
  {
   "cell_type": "code",
   "execution_count": 166,
   "metadata": {},
   "outputs": [],
   "source": [
    "import torch \n",
    "import torchvision as tv \n",
    "from torch.utils.data import Dataset, DataLoader \n",
    "import numpy as np\n",
    "import math \n",
    "\n",
    "from sklearn.preprocessing import StandardScaler"
   ]
  },
  {
   "cell_type": "code",
   "execution_count": 167,
   "metadata": {},
   "outputs": [],
   "source": [
    "class WineDataset(Dataset):\n",
    "    def __init__(self):\n",
    "        xy = np.loadtxt('wine.csv', delimiter=\",\", dtype=np.float32, skiprows=1)\n",
    "        sc = StandardScaler()\n",
    "        self.x = torch.from_numpy(sc.fit_transform(xy[:, 1:]))\n",
    "        self.y = torch.from_numpy(xy[:, 0]).clone().detach()\n",
    "        self.y = torch.tensor(self.y - 1, dtype=torch.long)\n",
    "        self.n_samples = xy.shape[0]\n",
    "        \n",
    "    def __getitem__(self, index):\n",
    "        return self.x[index], self.y[index]\n",
    "    \n",
    "    def __len__(self):\n",
    "        return self.n_samples\n",
    "    "
   ]
  },
  {
   "cell_type": "code",
   "execution_count": 168,
   "metadata": {},
   "outputs": [
    {
     "name": "stderr",
     "output_type": "stream",
     "text": [
      "/var/folders/sg/bv36hz0d5z36h52fqpd37kn80000gn/T/ipykernel_78281/3865935956.py:7: UserWarning: To copy construct from a tensor, it is recommended to use sourceTensor.clone().detach() or sourceTensor.clone().detach().requires_grad_(True), rather than torch.tensor(sourceTensor).\n",
      "  self.y = torch.tensor(self.y - 1, dtype=torch.long)\n"
     ]
    },
    {
     "data": {
      "text/plain": [
       "(tensor([ 1.5186, -0.5622,  0.2321, -1.1696,  1.9139,  0.8090,  1.0348, -0.6596,\n",
       "          1.2249,  0.2517,  0.3622,  1.8479,  1.0130]),\n",
       " tensor(0))"
      ]
     },
     "execution_count": 168,
     "metadata": {},
     "output_type": "execute_result"
    }
   ],
   "source": [
    "dataset = WineDataset()\n",
    "dataset[0]"
   ]
  },
  {
   "cell_type": "code",
   "execution_count": 169,
   "metadata": {},
   "outputs": [],
   "source": [
    "dataloader = DataLoader(dataset=dataset, batch_size=4, shuffle=True)"
   ]
  },
  {
   "cell_type": "code",
   "execution_count": 170,
   "metadata": {},
   "outputs": [
    {
     "data": {
      "text/plain": [
       "[tensor([[-0.6802,  0.6227,  0.9997,  2.2537, -0.1925, -0.6331, -1.4550,  2.1607,\n",
       "          -0.7900,  1.0563, -1.2611, -1.2453,  0.4239],\n",
       "         [ 1.1604, -0.5443, -0.3528, -0.6291,  0.5799,  0.9372,  1.5167, -0.3373,\n",
       "           0.8569,  1.6619,  0.7132,  0.6897,  1.6340],\n",
       "         [-0.0131, -0.5982,  0.8535,  3.1545,  2.7565,  1.6102,  0.8641, -1.2236,\n",
       "           0.6467, -0.7389,  1.5468,  1.2547,  0.7582],\n",
       "         [-0.9890,  0.6227, -0.1700, -0.1486, -0.2627, -1.6746, -1.5454,  0.3074,\n",
       "          -1.5084,  0.1912, -1.3050, -1.1041, -0.7544]]),\n",
       " tensor([2, 0, 1, 2])]"
      ]
     },
     "execution_count": 170,
     "metadata": {},
     "output_type": "execute_result"
    }
   ],
   "source": [
    "dataiter = iter(dataloader)\n",
    "data = dataiter.next()\n",
    "data"
   ]
  },
  {
   "cell_type": "code",
   "execution_count": 183,
   "metadata": {},
   "outputs": [
    {
     "data": {
      "text/plain": [
       "45"
      ]
     },
     "execution_count": 183,
     "metadata": {},
     "output_type": "execute_result"
    }
   ],
   "source": [
    "nepochs = 50\n",
    "samples = len(dataset)\n",
    "n_it = math.ceil(samples/4)\n",
    "n_it"
   ]
  },
  {
   "cell_type": "code",
   "execution_count": 184,
   "metadata": {},
   "outputs": [],
   "source": [
    "import torch.nn as nn \n",
    "\n",
    "class WineModel(nn.Module):\n",
    "    def __init__(self, input_size):\n",
    "        super(WineModel, self).__init__()\n",
    "        self.d1 = nn.Linear(input_size, 64)\n",
    "        self.d2 = nn.Linear(64, 64)\n",
    "        self.d3 = nn.Linear(64, 3)\n",
    "        \n",
    "    def forward(self, x):\n",
    "        x = nn.functional.relu(self.d1(x))\n",
    "        x = nn.functional.relu(self.d2(x))\n",
    "        return nn.functional.softmax(self.d3(x), 1)"
   ]
  },
  {
   "cell_type": "code",
   "execution_count": 185,
   "metadata": {},
   "outputs": [],
   "source": [
    "model = WineModel(13)"
   ]
  },
  {
   "cell_type": "code",
   "execution_count": 186,
   "metadata": {},
   "outputs": [],
   "source": [
    "criteria = nn.CrossEntropyLoss()\n",
    "lr = 0.001\n",
    "optimizer = torch.optim.SGD(model.parameters(), lr=lr)"
   ]
  },
  {
   "cell_type": "code",
   "execution_count": null,
   "metadata": {},
   "outputs": [],
   "source": []
  },
  {
   "cell_type": "code",
   "execution_count": 187,
   "metadata": {},
   "outputs": [
    {
     "name": "stdout",
     "output_type": "stream",
     "text": [
      "epoch: 1/50, step 45/45, loss = 1.1349562407\n",
      "epoch: 2/50, step 45/45, loss = 1.1025137901\n",
      "epoch: 3/50, step 45/45, loss = 1.1131125689\n",
      "epoch: 4/50, step 45/45, loss = 1.0876976252\n",
      "epoch: 5/50, step 45/45, loss = 1.1359601021\n",
      "epoch: 6/50, step 45/45, loss = 1.1408059597\n",
      "epoch: 7/50, step 45/45, loss = 1.1298906803\n",
      "epoch: 8/50, step 45/45, loss = 1.1127537489\n",
      "epoch: 9/50, step 45/45, loss = 1.0858095884\n",
      "epoch: 10/50, step 45/45, loss = 1.1292493343\n",
      "epoch: 11/50, step 45/45, loss = 1.1223441362\n",
      "epoch: 12/50, step 45/45, loss = 1.0467007160\n",
      "epoch: 13/50, step 45/45, loss = 1.0759199858\n",
      "epoch: 14/50, step 45/45, loss = 1.1342823505\n",
      "epoch: 15/50, step 45/45, loss = 1.0485947132\n",
      "epoch: 16/50, step 45/45, loss = 1.0238354206\n",
      "epoch: 17/50, step 45/45, loss = 1.0256578922\n",
      "epoch: 18/50, step 45/45, loss = 1.1159292459\n",
      "epoch: 19/50, step 45/45, loss = 1.0746421814\n",
      "epoch: 20/50, step 45/45, loss = 1.0072985888\n",
      "epoch: 21/50, step 45/45, loss = 1.0742896795\n",
      "epoch: 22/50, step 45/45, loss = 1.0419687033\n",
      "epoch: 23/50, step 45/45, loss = 1.0776338577\n",
      "epoch: 24/50, step 45/45, loss = 0.9984076023\n",
      "epoch: 25/50, step 45/45, loss = 1.0098190308\n",
      "epoch: 26/50, step 45/45, loss = 1.0665011406\n",
      "epoch: 27/50, step 45/45, loss = 1.1213492155\n",
      "epoch: 28/50, step 45/45, loss = 1.1133459806\n",
      "epoch: 29/50, step 45/45, loss = 1.1010291576\n",
      "epoch: 30/50, step 45/45, loss = 1.0810916424\n",
      "epoch: 31/50, step 45/45, loss = 1.1304161549\n",
      "epoch: 32/50, step 45/45, loss = 1.0319488049\n",
      "epoch: 33/50, step 45/45, loss = 1.0919110775\n",
      "epoch: 34/50, step 45/45, loss = 1.0871005058\n",
      "epoch: 35/50, step 45/45, loss = 1.1118698120\n",
      "epoch: 36/50, step 45/45, loss = 1.0008751154\n",
      "epoch: 37/50, step 45/45, loss = 1.0629758835\n",
      "epoch: 38/50, step 45/45, loss = 1.1151247025\n",
      "epoch: 39/50, step 45/45, loss = 1.0682539940\n",
      "epoch: 40/50, step 45/45, loss = 1.0623811483\n",
      "epoch: 41/50, step 45/45, loss = 1.0245249271\n",
      "epoch: 42/50, step 45/45, loss = 1.1000299454\n",
      "epoch: 43/50, step 45/45, loss = 1.0466582775\n",
      "epoch: 44/50, step 45/45, loss = 1.0446267128\n",
      "epoch: 45/50, step 45/45, loss = 1.0153681040\n",
      "epoch: 46/50, step 45/45, loss = 1.0407652855\n",
      "epoch: 47/50, step 45/45, loss = 1.0358353853\n",
      "epoch: 48/50, step 45/45, loss = 0.9759293199\n",
      "epoch: 49/50, step 45/45, loss = 1.0411071777\n",
      "epoch: 50/50, step 45/45, loss = 1.0922222137\n"
     ]
    }
   ],
   "source": [
    "for epoch in range(nepochs):\n",
    "    for i, (inputs, labels) in enumerate(dataloader):\n",
    "        y_pred = model(inputs)\n",
    "        loss = criteria(y_pred, labels)\n",
    "        loss.backward()\n",
    "        optimizer.step()\n",
    "        optimizer.zero_grad()\n",
    "        \n",
    "    print(f'epoch: {epoch+1}/{nepochs}, step {i+1:2d}/{n_it:2d}, loss = {loss.item():.10f}')"
   ]
  },
  {
   "cell_type": "code",
   "execution_count": 188,
   "metadata": {},
   "outputs": [
    {
     "data": {
      "text/plain": [
       "tensor(0.5281)"
      ]
     },
     "execution_count": 188,
     "metadata": {},
     "output_type": "execute_result"
    }
   ],
   "source": [
    "model(dataset.x).argmax(dim=1).eq(dataset.y).sum() / 178"
   ]
  },
  {
   "cell_type": "code",
   "execution_count": null,
   "metadata": {},
   "outputs": [],
   "source": []
  }
 ],
 "metadata": {
  "kernelspec": {
   "display_name": "Python 3.8.3 64-bit ('pytorch')",
   "language": "python",
   "name": "python3"
  },
  "language_info": {
   "codemirror_mode": {
    "name": "ipython",
    "version": 3
   },
   "file_extension": ".py",
   "mimetype": "text/x-python",
   "name": "python",
   "nbconvert_exporter": "python",
   "pygments_lexer": "ipython3",
   "version": "3.10.5"
  },
  "orig_nbformat": 4,
  "vscode": {
   "interpreter": {
    "hash": "b9784455f3e9463d14dc3263833cb7a66fe8439c0a7d698fd0d368a30d65f5d0"
   }
  }
 },
 "nbformat": 4,
 "nbformat_minor": 2
}

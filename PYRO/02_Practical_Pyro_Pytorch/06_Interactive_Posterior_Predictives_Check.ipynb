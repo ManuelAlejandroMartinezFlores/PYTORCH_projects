{
 "cells": [
  {
   "cell_type": "markdown",
   "metadata": {},
   "source": [
    "# 6 Interactive posterior predictives checks"
   ]
  },
  {
   "cell_type": "code",
   "execution_count": 5,
   "metadata": {},
   "outputs": [],
   "source": [
    "import os\n",
    "from ipywidgets import interact, FloatSlider\n",
    "\n",
    "import torch\n",
    "import pyro\n",
    "import pyro.distributions as D\n",
    "import pyro.poutine as poutine\n",
    "from pyro.infer.resampler import Resampler\n",
    "import matplotlib.pyplot as plt"
   ]
  },
  {
   "cell_type": "code",
   "execution_count": 6,
   "metadata": {},
   "outputs": [],
   "source": [
    "def model(T: int=1000, data=None):\n",
    "    df = pyro.sample('df', D.LogNormal(0, 1))\n",
    "    pscale = pyro.sample('pscale', D.LogNormal(0, 1))\n",
    "    mscale = pyro.sample('mscale', D.LogNormal(0, 1))\n",
    "    \n",
    "    with pyro.plate('dt', T):\n",
    "        process_noise = pyro.sample('process_noise', D.StudentT(df, 0, pscale))\n",
    "    trend = pyro.deterministic('trend', process_noise.cumsum(-1))\n",
    "    with pyro.plate('t', T):\n",
    "        return pyro.sample('obs', D.Normal(trend, mscale), obs=data)"
   ]
  },
  {
   "cell_type": "code",
   "execution_count": 7,
   "metadata": {},
   "outputs": [],
   "source": [
    "def plot_trajectory(df=1.0, pscale=1.0, mscale=1.0):\n",
    "    pyro.set_rng_seed(12345)\n",
    "    data = {\n",
    "        'df': torch.as_tensor(df),\n",
    "        'pscale': torch.as_tensor(pscale),\n",
    "        'mscale': torch.as_tensor(mscale)\n",
    "    }\n",
    "    trajectory = poutine.condition(model, data)()\n",
    "    plt.figure(figsize=(8, 4)).patch.set_color('white')\n",
    "    plt.plot(trajectory)\n",
    "    plt.xlabel('time')\n",
    "    plt.ylabel('obs')"
   ]
  },
  {
   "cell_type": "code",
   "execution_count": 8,
   "metadata": {},
   "outputs": [
    {
     "data": {
      "application/vnd.jupyter.widget-view+json": {
       "model_id": "8fead68348cf422398ca696b1f40bcf3",
       "version_major": 2,
       "version_minor": 0
      },
      "text/plain": [
       "interactive(children=(FloatSlider(value=1.0, description='df', max=10.0, min=0.01), FloatSlider(value=0.1, des…"
      ]
     },
     "metadata": {},
     "output_type": "display_data"
    },
    {
     "data": {
      "text/plain": [
       "<function __main__.plot_trajectory(df=1.0, pscale=1.0, mscale=1.0)>"
      ]
     },
     "execution_count": 8,
     "metadata": {},
     "output_type": "execute_result"
    }
   ],
   "source": [
    "interact(\n",
    "    plot_trajectory,\n",
    "    df=FloatSlider(value=1.0, min=0.01, max=10.0),\n",
    "    pscale=FloatSlider(value=0.1, min=0.01, max=1.0),\n",
    "    mscale=FloatSlider(value=1.0, min=0.01, max=10.0),\n",
    "\n",
    ")"
   ]
  },
  {
   "cell_type": "code",
   "execution_count": 9,
   "metadata": {},
   "outputs": [],
   "source": [
    "def model2(T=1000, data=None, df0=0, df1=1, p0=0, p1=1, m0=0, m1=1):\n",
    "    df = pyro.sample('df', D.LogNormal(df0, df1))\n",
    "    pscale = pyro.sample('pscale', D.LogNormal(p0, df1))\n",
    "    mscale = pyro.sample('mscale', D.LogNormal(m0, m1))\n",
    "    \n",
    "    with pyro.plate('dt', T):\n",
    "        process_noise = pyro.sample('process_noise', D.StudentT(df, 0, pscale))\n",
    "    trend = pyro.deterministic('trend', process_noise.cumsum(-1))\n",
    "    with pyro.plate('t', T):\n",
    "        return pyro.sample('obs', D.Normal(trend, mscale), obs=data)"
   ]
  },
  {
   "cell_type": "code",
   "execution_count": 11,
   "metadata": {},
   "outputs": [],
   "source": [
    "def plot_trajectories(**kwargs):\n",
    "    pyro.set_rng_seed(12345)\n",
    "    with pyro.plate('trajectories', 20, dim=-2):\n",
    "        trajectories = model2(**kwargs)\n",
    "    plt.figure(figsize=(8, 4)).patch.set_color('white')\n",
    "    plt.plot(trajectories.T)\n",
    "    plt.xlabel('time')\n",
    "    plt.ylabel('obs')"
   ]
  },
  {
   "cell_type": "code",
   "execution_count": 12,
   "metadata": {},
   "outputs": [
    {
     "data": {
      "application/vnd.jupyter.widget-view+json": {
       "model_id": "2dacff65c95c4895b24e2ee0e5b7d55f",
       "version_major": 2,
       "version_minor": 0
      },
      "text/plain": [
       "interactive(children=(FloatSlider(value=0.0, description='df0', max=5.0, min=-5.0), FloatSlider(value=1.0, des…"
      ]
     },
     "metadata": {},
     "output_type": "display_data"
    },
    {
     "data": {
      "text/plain": [
       "<function __main__.plot_trajectories(**kwargs)>"
      ]
     },
     "execution_count": 12,
     "metadata": {},
     "output_type": "execute_result"
    }
   ],
   "source": [
    "interact(\n",
    "    plot_trajectories,\n",
    "    df0=FloatSlider(value=0.0, min=-5, max=5),\n",
    "    df1=FloatSlider(value=1.0, min=0.1, max=10),\n",
    "    p0=FloatSlider(value=0.0, min=-5, max=5),\n",
    "    p1=FloatSlider(value=1.0, min=0.1, max=10),\n",
    "    m0=FloatSlider(value=0.0, min=-5, max=5),\n",
    "    m1=FloatSlider(value=1.0, min=0.1, max=10),\n",
    ")"
   ]
  },
  {
   "cell_type": "code",
   "execution_count": 13,
   "metadata": {},
   "outputs": [],
   "source": [
    "def make_partial_model(df0, df1, p0, p1, m0, m1):\n",
    "    def partial_model():\n",
    "        # Sample parameters from the prior.\n",
    "        pyro.sample(\"df\", D.LogNormal(df0, df1))\n",
    "        pyro.sample(\"p_scale\", D.LogNormal(p0, p1))  # process noise\n",
    "        pyro.sample(\"m_scale\", D.LogNormal(m0, m1))  # measurement noise\n",
    "    return partial_model"
   ]
  },
  {
   "cell_type": "code",
   "execution_count": 14,
   "metadata": {},
   "outputs": [],
   "source": [
    "partial_guide = make_partial_model(0, 10, 0, 10, 0, 10)\n",
    "resampler = Resampler(partial_guide, model, num_guide_samples=10000)"
   ]
  },
  {
   "cell_type": "code",
   "execution_count": 15,
   "metadata": {},
   "outputs": [],
   "source": [
    "def plot_resampled(df0, df1, p0, p1, m0, m1):\n",
    "    partial_model = make_partial_model(df0, df1, p0, p1, m0, m1)\n",
    "    samples = resampler.sample(partial_model, num_samples=20)\n",
    "    trajectories = samples[\"obs\"]\n",
    "    plt.figure(figsize=(8, 5)).patch.set_color(\"white\")\n",
    "    plt.plot(trajectories.T)\n",
    "    plt.xlabel(\"time\")\n",
    "    plt.ylabel(\"obs\")"
   ]
  },
  {
   "cell_type": "code",
   "execution_count": 16,
   "metadata": {},
   "outputs": [
    {
     "data": {
      "application/vnd.jupyter.widget-view+json": {
       "model_id": "644f0c421070476f91fed0507206d8e7",
       "version_major": 2,
       "version_minor": 0
      },
      "text/plain": [
       "interactive(children=(FloatSlider(value=0.0, description='df0', max=5.0, min=-5.0), FloatSlider(value=1.0, des…"
      ]
     },
     "metadata": {},
     "output_type": "display_data"
    },
    {
     "data": {
      "text/plain": [
       "<function __main__.plot_resampled(df0, df1, p0, p1, m0, m1)>"
      ]
     },
     "execution_count": 16,
     "metadata": {},
     "output_type": "execute_result"
    }
   ],
   "source": [
    "interact(\n",
    "    plot_resampled,\n",
    "    df0=FloatSlider(value=0.0, min=-5, max=5),\n",
    "    df1=FloatSlider(value=1.0, min=0.1, max=10),\n",
    "    p0=FloatSlider(value=0.0, min=-5, max=5),\n",
    "    p1=FloatSlider(value=1.0, min=0.1, max=10),\n",
    "    m0=FloatSlider(value=0.0, min=-5, max=5),\n",
    "    m1=FloatSlider(value=1.0, min=0.1, max=10),\n",
    ")"
   ]
  },
  {
   "cell_type": "code",
   "execution_count": null,
   "metadata": {},
   "outputs": [],
   "source": []
  }
 ],
 "metadata": {
  "kernelspec": {
   "display_name": "Python 3.10.4 ('pytorch')",
   "language": "python",
   "name": "python3"
  },
  "language_info": {
   "codemirror_mode": {
    "name": "ipython",
    "version": 3
   },
   "file_extension": ".py",
   "mimetype": "text/x-python",
   "name": "python",
   "nbconvert_exporter": "python",
   "pygments_lexer": "ipython3",
   "version": "3.10.4"
  },
  "orig_nbformat": 4,
  "vscode": {
   "interpreter": {
    "hash": "b9784455f3e9463d14dc3263833cb7a66fe8439c0a7d698fd0d368a30d65f5d0"
   }
  }
 },
 "nbformat": 4,
 "nbformat_minor": 2
}

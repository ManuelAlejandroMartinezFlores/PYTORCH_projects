{
 "cells": [
  {
   "cell_type": "markdown",
   "metadata": {},
   "source": [
    "# 5 Deep Markov Model"
   ]
  },
  {
   "cell_type": "code",
   "execution_count": 1,
   "metadata": {},
   "outputs": [],
   "source": [
    "import torch\n",
    "import torch.nn as nn\n",
    "import pyro\n",
    "import pyro.distributions as D\n",
    "import pyro.distributions.transforms as T\n",
    "import matplotlib.pyplot as plt\n",
    "import seaborn as sns\n",
    "from pyro import poutine\n",
    "from pyro.optim import ClippedAdam\n",
    "from pyro.infer import SVI, TraceMeanField_ELBO\n",
    "import numpy as np\n",
    "import time\n"
   ]
  },
  {
   "cell_type": "code",
   "execution_count": 2,
   "metadata": {},
   "outputs": [],
   "source": [
    "import pyro.contrib.examples.polyphonic_data_loader as poly"
   ]
  },
  {
   "cell_type": "code",
   "execution_count": 3,
   "metadata": {},
   "outputs": [],
   "source": [
    "data = poly.load_data(poly.JSB_CHORALES)"
   ]
  },
  {
   "cell_type": "code",
   "execution_count": 4,
   "metadata": {},
   "outputs": [
    {
     "data": {
      "text/plain": [
       "(torch.Size([229]), torch.Size([229, 129, 88]))"
      ]
     },
     "execution_count": 4,
     "metadata": {},
     "output_type": "execute_result"
    }
   ],
   "source": [
    "data['train']['sequence_lengths'].shape, data['train']['sequences'].shape"
   ]
  },
  {
   "cell_type": "code",
   "execution_count": 5,
   "metadata": {},
   "outputs": [],
   "source": [
    "class Emitter(nn.Module):\n",
    "    def __init__(self, input_dim, z_dim, emission_dim):\n",
    "        super().__init__()\n",
    "        self.model = nn.Sequential(\n",
    "            nn.Linear(z_dim, emission_dim), nn.ReLU(),\n",
    "            nn.Linear(emission_dim, emission_dim), nn.ReLU(),\n",
    "            nn.Linear(emission_dim, input_dim)\n",
    "        )\n",
    "        \n",
    "    def forward(self, z):\n",
    "        return torch.sigmoid(self.model(z))"
   ]
  },
  {
   "cell_type": "code",
   "execution_count": 6,
   "metadata": {},
   "outputs": [],
   "source": [
    "class GatedTransition(nn.Module):\n",
    "    def __init__(self, z_dim, trans_dim):\n",
    "        super().__init__()\n",
    "        self.gate = nn.Sequential(\n",
    "            nn.Linear(z_dim, trans_dim), nn.ReLU(),\n",
    "            nn.Linear(trans_dim, z_dim), nn.Sigmoid()\n",
    "        )\n",
    "        self.mean = nn.Sequential(\n",
    "            nn.Linear(z_dim, trans_dim), nn.ReLU(),\n",
    "            nn.Linear(trans_dim, z_dim)\n",
    "        )\n",
    "        self.loc = nn.Linear(z_dim, z_dim)\n",
    "        self.scale = nn.Linear(z_dim, z_dim)\n",
    "        \n",
    "        self.loc.weight.data = torch.eye(z_dim)\n",
    "        self.loc.bias.data = torch.zeros(z_dim)\n",
    "        \n",
    "        self.relu = nn.ReLU()\n",
    "        self.softplus = nn.Softplus()\n",
    "        \n",
    "        \n",
    "    def forward(self, z):\n",
    "        gate = self.gate(z)\n",
    "        proposed_mean = self.mean(z)\n",
    "        loc = (1 - gate) * self.loc(z) + gate * proposed_mean\n",
    "        scale = self.softplus(self.scale(self.relu(proposed_mean)))\n",
    "        return loc, scale \n",
    "    "
   ]
  },
  {
   "cell_type": "code",
   "execution_count": 31,
   "metadata": {},
   "outputs": [],
   "source": [
    "def _model(self, minibatch, mini_batch_reversed, mini_batch_mask,\n",
    "          mini_batch_seq_lenghts, annealing_factor=1.):\n",
    "    Tmax = minibatch.size(1)\n",
    "    \n",
    "    pyro.module('dmm', self)\n",
    "    \n",
    "    z_prev = self.z0.expand(minibatch.size(0), self.z0.size(0))\n",
    "    \n",
    "    with pyro.plate('z_minibatch', len(minibatch)):\n",
    "        \n",
    "        for t in pyro.markov(range(1, Tmax + 1)):\n",
    "            z_loc, z_scale = self.trans(z_prev)\n",
    "            \n",
    "            with poutine.scale(None, annealing_factor):\n",
    "                z_t = pyro.sample(f'z_{t}', \n",
    "                                  D.Normal(z_loc, z_scale)\n",
    "                                    .mask(mini_batch_mask[:, t-1:t])\n",
    "                                    .to_event(1))\n",
    "                \n",
    "            emission_probs_t = self.emitter(z_t)\n",
    "\n",
    "            \n",
    "            pyro.sample(f'obs_{t}', \n",
    "                        D.Bernoulli(emission_probs_t)\n",
    "                            #.mask(mini_batch_mask[: t-1:t])\n",
    "                            .to_event(1),\n",
    "                        obs=minibatch[:, t-1, :])\n",
    "            \n",
    "            z_prev = z_t\n",
    "                "
   ]
  },
  {
   "cell_type": "code",
   "execution_count": 46,
   "metadata": {},
   "outputs": [],
   "source": [
    "class Combiner(nn.Module):\n",
    "    def __init__(self, z_dim, rnn_dim):\n",
    "        super().__init__()\n",
    "        self.z_to_hidden = nn.Linear(z_dim, rnn_dim)\n",
    "        self.hidden_to_loc = nn.Linear(rnn_dim, z_dim)\n",
    "        self.hidden_to_scale = nn.Linear(rnn_dim, z_dim)\n",
    "        \n",
    "        self.tanh = nn.Tanh()\n",
    "        self.softplus =  nn.Softplus()\n",
    "        \n",
    "    def forward(self, z_t_1, h_rnn):\n",
    "        h_comb = 0.5 * (self.tanh(self.z_to_hidden(z_t_1)) + h_rnn)\n",
    "        loc = self.hidden_to_loc(h_comb)\n",
    "        scale = self.softplus(self.hidden_to_scale(h_comb)) + 1e-9\n",
    "        return loc, scale"
   ]
  },
  {
   "cell_type": "code",
   "execution_count": 47,
   "metadata": {},
   "outputs": [],
   "source": [
    "def _guide(self, minibatch, minibatch_reversed, minibatch_mask,\n",
    "          minibatch_seq_lenghts, annealing_factor=1.):\n",
    "    \n",
    "    Tmax = minibatch.size(1)\n",
    "    \n",
    "    pyro.module('dmm', self)\n",
    "    \n",
    "    h0_contig = self.h0.expand(1, minibatch.size(0), self.rnn.hidden_size).contiguous()\n",
    "\n",
    "    rnn_out, _ = self.rnn(minibatch_reversed, h0_contig)\n",
    "    \n",
    "    rnn_out = poly.pad_and_reverse(rnn_out, minibatch_seq_lenghts)\n",
    "    \n",
    "    z_prev = self.zq0.expand(minibatch.size(0), self.zq0.size(0))\n",
    "    \n",
    "    \n",
    "    with pyro.plate('z_minibatch', len(minibatch)):\n",
    "        for t in pyro.markov(range(1, Tmax + 1)):\n",
    "            z_loc, z_scale = self.combiner(z_prev, rnn_out[:, t-1, :])\n",
    "            z_dist = D.Normal(z_loc, z_scale)\n",
    "            \n",
    "            with poutine.scale(None, annealing_factor):\n",
    "                z_t = pyro.sample(f'z_{t}',\n",
    "                                  z_dist.mask(minibatch_mask[:, t-1:t])\n",
    "                                  .to_event(1))\n",
    "                \n",
    "            z_prev = z_t \n",
    "            \n",
    "            "
   ]
  },
  {
   "cell_type": "code",
   "execution_count": 48,
   "metadata": {},
   "outputs": [],
   "source": [
    "class DMM(nn.Module):\n",
    "    def __init__(self, input_dim=88, z_dim=100, emission_dim=100, \n",
    "                 trans_dim=200, rnn_dim=500, rnn_dropout=0.0,\n",
    "                 num_iafs=0, iaf_dim=50):\n",
    "        super().__init__()\n",
    "        self.emitter = Emitter(input_dim, z_dim, emission_dim)\n",
    "        self.trans = GatedTransition(z_dim, trans_dim)\n",
    "        self.combiner = Combiner(z_dim, rnn_dim)\n",
    "        self.rnn = nn.RNN(input_dim, rnn_dim, nonlinearity='relu', batch_first=True,\n",
    "                          bidirectional=False, num_layers=1, dropout=rnn_dropout)\n",
    "        \n",
    "        self.z0 = nn.Parameter(torch.zeros(z_dim))\n",
    "        self.zq0 = nn.Parameter(torch.zeros(z_dim))\n",
    "        self.h0 = nn.Parameter(torch.zeros(1, 1, rnn_dim))\n",
    "        \n",
    "    def model(self, minibatch, mini_batch_reversed, mini_batch_mask,\n",
    "            mini_batch_seq_lenghts, annealing_factor=1.):\n",
    "        _model(self, minibatch, mini_batch_reversed, mini_batch_mask,\n",
    "          mini_batch_seq_lenghts, annealing_factor)\n",
    "        \n",
    "    def guide(self, minibatch, mini_batch_reversed, mini_batch_mask,\n",
    "          mini_batch_seq_lenghts, annealing_factor=1.):\n",
    "        _guide(self, minibatch, mini_batch_reversed, mini_batch_mask,\n",
    "          mini_batch_seq_lenghts, annealing_factor)"
   ]
  },
  {
   "cell_type": "code",
   "execution_count": 49,
   "metadata": {},
   "outputs": [],
   "source": [
    "dmm = DMM()\n",
    "adam_params = {'lr': 3e-4, 'betas': (0.96, 0.999), 'clip_norm': 10.,\n",
    "               'lrd': 0.99996, 'weight_decay': 2.}\n",
    "optimizer = ClippedAdam(adam_params)"
   ]
  },
  {
   "cell_type": "code",
   "execution_count": 50,
   "metadata": {},
   "outputs": [],
   "source": [
    "svi = SVI(dmm.model, dmm.guide, optimizer, TraceMeanField_ELBO())"
   ]
  },
  {
   "cell_type": "code",
   "execution_count": 51,
   "metadata": {},
   "outputs": [],
   "source": [
    "training_seq_lengths = data['train']['sequence_lengths']\n",
    "training_data_sequences = data['train']['sequences']\n",
    "test_seq_lengths = data['test']['sequence_lengths']\n",
    "test_data_sequences = data['test']['sequences']\n",
    "val_seq_lengths = data['valid']['sequence_lengths']\n",
    "val_data_sequences = data['valid']['sequences']\n",
    "N_train_data = len(training_seq_lengths)\n",
    "N_train_time_slices = training_seq_lengths.sum().item()\n",
    "N_mini_batches = int(N_train_data / 20 +\n",
    "                     int(N_train_data % 20 > 0))"
   ]
  },
  {
   "cell_type": "code",
   "execution_count": 52,
   "metadata": {},
   "outputs": [],
   "source": [
    "annealing_epochs = 1000\n",
    "minimum_annealing_factor = 0.2"
   ]
  },
  {
   "cell_type": "code",
   "execution_count": 53,
   "metadata": {},
   "outputs": [],
   "source": [
    "def process_minibatch(epoch, which_mini_batch, shuffled_indices):\n",
    "    if annealing_epochs > 0 and epoch < annealing_epochs:\n",
    "        # compute the KL annealing factor appropriate\n",
    "        # for the current mini-batch in the current epoch\n",
    "        min_af = minimum_annealing_factor\n",
    "        annealing_factor = min_af + (1.0 - min_af) * \\\n",
    "            (float(which_mini_batch + epoch * N_mini_batches + 1) /\n",
    "             float(annealing_epochs * N_mini_batches))\n",
    "    else:\n",
    "        # by default the KL annealing factor is unity\n",
    "        annealing_factor = 1.0\n",
    "\n",
    "    # compute which sequences in the training set we should grab\n",
    "    mini_batch_start = (which_mini_batch * 20)\n",
    "    mini_batch_end = np.min([(which_mini_batch + 1) * 20,\n",
    "                             N_train_data])\n",
    "    mini_batch_indices = shuffled_indices[mini_batch_start:mini_batch_end]\n",
    "    # grab the fully prepped mini-batch using the helper function in the data loader\n",
    "    mini_batch, mini_batch_reversed, mini_batch_mask, mini_batch_seq_lengths \\\n",
    "        = poly.get_mini_batch(mini_batch_indices, training_data_sequences,\n",
    "                              training_seq_lengths)\n",
    "    # do an actual gradient step\n",
    "    loss = svi.step(mini_batch, mini_batch_reversed, mini_batch_mask,\n",
    "                     mini_batch_seq_lengths, annealing_factor)\n",
    "    # keep track of the training loss\n",
    "    return loss"
   ]
  },
  {
   "cell_type": "code",
   "execution_count": 54,
   "metadata": {},
   "outputs": [],
   "source": [
    "n_eval_samples = 1\n",
    "\n",
    "def rep(x):\n",
    "    return np.repeat(x, n_eval_samples, axis=0)\n",
    "\n",
    "# get the validation/test data ready for the dmm: pack into sequences, etc.\n",
    "val_seq_lengths = rep(val_seq_lengths)\n",
    "test_seq_lengths = rep(test_seq_lengths)\n",
    "val_batch, val_batch_reversed, val_batch_mask, val_seq_lengths = poly.get_mini_batch(\n",
    "    np.arange(n_eval_samples * val_data_sequences.shape[0]), rep(val_data_sequences),\n",
    "    val_seq_lengths)\n",
    "test_batch, test_batch_reversed, test_batch_mask, test_seq_lengths = \\\n",
    "    poly.get_mini_batch(np.arange(n_eval_samples * test_data_sequences.shape[0]),\n",
    "                        rep(test_data_sequences),\n",
    "                        test_seq_lengths)"
   ]
  },
  {
   "cell_type": "code",
   "execution_count": 55,
   "metadata": {},
   "outputs": [],
   "source": [
    "def do_evaluation():\n",
    "    # put the RNN into evaluation mode (i.e. turn off drop-out if applicable)\n",
    "    dmm.rnn.eval()\n",
    "\n",
    "    # compute the validation and test loss\n",
    "    val_nll = svi.evaluate_loss(val_batch, val_batch_reversed, val_batch_mask,\n",
    "                                 val_seq_lengths) / val_seq_lengths.sum()\n",
    "    test_nll = svi.evaluate_loss(test_batch, test_batch_reversed, test_batch_mask,\n",
    "                                  test_seq_lengths) / test_seq_lengths.sum()\n",
    "\n",
    "    # put the RNN back into training mode (i.e. turn on drop-out if applicable)\n",
    "    dmm.rnn.train()\n",
    "    return val_nll, test_nll"
   ]
  },
  {
   "cell_type": "code",
   "execution_count": 59,
   "metadata": {},
   "outputs": [
    {
     "name": "stderr",
     "output_type": "stream",
     "text": [
      "100%|██████████| 3000/3000 [9:16:44<00:00, 11.13s/it]  \n"
     ]
    }
   ],
   "source": [
    "from tqdm import trange\n",
    "\n",
    "pyro.clear_param_store()\n",
    "times = []\n",
    "vals = []\n",
    "tests = []\n",
    "\n",
    "for epoch in trange(3000):\n",
    "    # accumulator for our estimate of the negative log likelihood\n",
    "    # (or rather -elbo) for this epoch\n",
    "    epoch_nll = 0.0\n",
    "    since = time.time()\n",
    "    # prepare mini-batch subsampling indices for this epoch\n",
    "    shuffled_indices = np.arange(N_train_data)\n",
    "    np.random.shuffle(shuffled_indices)\n",
    "\n",
    "    # process each mini-batch; this is where we take gradient steps\n",
    "    for which_mini_batch in range(N_mini_batches):\n",
    "        epoch_nll += process_minibatch(epoch, which_mini_batch, shuffled_indices)\n",
    "\n",
    "    # report training diagnostics\n",
    "    times.append(time.time() - since)\n",
    "    val, test = do_evaluation()\n",
    "    vals.append(val), tests.append(test)\n",
    "    \n",
    "    "
   ]
  },
  {
   "cell_type": "code",
   "execution_count": 60,
   "metadata": {},
   "outputs": [],
   "source": [
    "import matplotlib.pyplot as plt"
   ]
  },
  {
   "cell_type": "code",
   "execution_count": 62,
   "metadata": {},
   "outputs": [
    {
     "data": {
      "image/png": "[encoded data removed]",
      "text/plain": [
       "<Figure size 432x288 with 1 Axes>"
      ]
     },
     "metadata": {
      "needs_background": "light"
     },
     "output_type": "display_data"
    }
   ],
   "source": [
    "plt.plot(vals, label='validation')\n",
    "plt.plot(tests, label='test')\n",
    "plt.title('Evaluation')\n",
    "plt.xlabel('Epoch')\n",
    "plt.ylabel('NLL')\n",
    "plt.legend()\n",
    "plt.show()"
   ]
  },
  {
   "cell_type": "code",
   "execution_count": null,
   "metadata": {},
   "outputs": [],
   "source": []
  }
 ],
 "metadata": {
  "kernelspec": {
   "display_name": "Python 3.10.4 ('pytorch')",
   "language": "python",
   "name": "python3"
  },
  "language_info": {
   "codemirror_mode": {
    "name": "ipython",
    "version": 3
   },
   "file_extension": ".py",
   "mimetype": "text/x-python",
   "name": "python",
   "nbconvert_exporter": "python",
   "pygments_lexer": "ipython3",
   "version": "3.10.4"
  },
  "orig_nbformat": 4,
  "vscode": {
   "interpreter": {
    "hash": "b9784455f3e9463d14dc3263833cb7a66fe8439c0a7d698fd0d368a30d65f5d0"
   }
  }
 },
 "nbformat": 4,
 "nbformat_minor": 2
}

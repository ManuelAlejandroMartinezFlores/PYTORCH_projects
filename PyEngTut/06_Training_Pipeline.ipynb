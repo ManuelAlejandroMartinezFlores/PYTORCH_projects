{
 "cells": [
  {
   "cell_type": "markdown",
   "metadata": {},
   "source": [
    "# 06 Training Pipeline"
   ]
  },
  {
   "cell_type": "code",
   "execution_count": 2,
   "metadata": {},
   "outputs": [],
   "source": [
    "import torch\n",
    "import torch.nn as nn"
   ]
  },
  {
   "cell_type": "code",
   "execution_count": 3,
   "metadata": {},
   "outputs": [],
   "source": [
    "x = torch.tensor([1, 2, 3, 4], dtype=torch.float32)\n",
    "y = torch.tensor([2, 4, 6, 8], dtype=torch.float32)\n",
    "w = torch.tensor([0.], dtype=torch.float32, requires_grad=True)"
   ]
  },
  {
   "cell_type": "code",
   "execution_count": 4,
   "metadata": {},
   "outputs": [],
   "source": [
    "def forward(x):\n",
    "    return w * x"
   ]
  },
  {
   "cell_type": "code",
   "execution_count": 5,
   "metadata": {},
   "outputs": [],
   "source": [
    "loss = nn.MSELoss()\n",
    "optimizer = torch.optim.SGD([w], lr=0.01)"
   ]
  },
  {
   "cell_type": "code",
   "execution_count": 6,
   "metadata": {},
   "outputs": [
    {
     "name": "stdout",
     "output_type": "stream",
     "text": [
      "epoch1: w = 0.300, loss = 30.00000000\n",
      "epoch11: w = 1.665, loss = 1.16278565\n",
      "epoch21: w = 1.934, loss = 0.04506890\n",
      "epoch31: w = 1.987, loss = 0.00174685\n",
      "epoch41: w = 1.997, loss = 0.00006770\n",
      "epoch51: w = 1.999, loss = 0.00000262\n",
      "epoch61: w = 2.000, loss = 0.00000010\n",
      "epoch71: w = 2.000, loss = 0.00000000\n",
      "epoch81: w = 2.000, loss = 0.00000000\n",
      "epoch91: w = 2.000, loss = 0.00000000\n"
     ]
    }
   ],
   "source": [
    "lr = 0.01\n",
    "n_iters = 100 \n",
    "\n",
    "for epoch in range(n_iters):\n",
    "    y_pred = forward(x)\n",
    "    l = loss(y, y_pred)\n",
    "    l.backward()\n",
    "    \n",
    "    optimizer.step()\n",
    "    \n",
    "    optimizer.zero_grad()\n",
    "        \n",
    "    w.grad.zero_()\n",
    "    \n",
    "    if epoch % 10 == 0:\n",
    "        print(f'epoch{epoch+1}: w = {w.item():.3f}, loss = {l:.8f}')"
   ]
  },
  {
   "cell_type": "markdown",
   "metadata": {},
   "source": [
    "## Model"
   ]
  },
  {
   "cell_type": "code",
   "execution_count": 9,
   "metadata": {},
   "outputs": [],
   "source": [
    "x = torch.tensor([1, 2, 3, 4], dtype=torch.float32).reshape((4, 1))\n",
    "y = torch.tensor([2, 4, 6, 8], dtype=torch.float32).reshape((4, 1))"
   ]
  },
  {
   "cell_type": "code",
   "execution_count": 10,
   "metadata": {},
   "outputs": [
    {
     "name": "stdout",
     "output_type": "stream",
     "text": [
      "Pred before training: f(5) = 3.231\n"
     ]
    }
   ],
   "source": [
    "model = nn.Linear(1, 1)\n",
    "print(f\"Pred before training: f(5) = {model(torch.tensor([5.])).item():.3f}\")"
   ]
  },
  {
   "cell_type": "code",
   "execution_count": 11,
   "metadata": {},
   "outputs": [],
   "source": [
    "loss = nn.MSELoss()\n",
    "optimizer = torch.optim.SGD(model.parameters(), lr=0.01)"
   ]
  },
  {
   "cell_type": "code",
   "execution_count": 12,
   "metadata": {},
   "outputs": [],
   "source": [
    "for epoch in range(100):\n",
    "    y_pred = model(x)\n",
    "    l = loss(y, y_pred)\n",
    "    l.backward()\n",
    "    optimizer.step()\n",
    "    optimizer.zero_grad()\n",
    "    \n",
    "    if epoch % 100 == 99:\n",
    "        [w, b] = model.parameters()\n",
    "        print(f'epoch{epoch+1}: w = {w.[0][0].item():.3f}, loss = {l:.8f}')"
   ]
  },
  {
   "cell_type": "code",
   "execution_count": null,
   "metadata": {},
   "outputs": [],
   "source": []
  }
 ],
 "metadata": {
  "kernelspec": {
   "display_name": "Python 3.7.13 ('pytorch')",
   "language": "python",
   "name": "python3"
  },
  "language_info": {
   "codemirror_mode": {
    "name": "ipython",
    "version": 3
   },
   "file_extension": ".py",
   "mimetype": "text/x-python",
   "name": "python",
   "nbconvert_exporter": "python",
   "pygments_lexer": "ipython3",
   "version": "3.7.13"
  },
  "orig_nbformat": 4,
  "vscode": {
   "interpreter": {
    "hash": "b9784455f3e9463d14dc3263833cb7a66fe8439c0a7d698fd0d368a30d65f5d0"
   }
  }
 },
 "nbformat": 4,
 "nbformat_minor": 2
}

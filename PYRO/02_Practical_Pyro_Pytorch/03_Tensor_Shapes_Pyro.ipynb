{
 "cells": [
  {
   "cell_type": "markdown",
   "metadata": {},
   "source": [
    "# 3 Tensor Shapes in Pyro"
   ]
  },
  {
   "cell_type": "code",
   "execution_count": 1,
   "metadata": {},
   "outputs": [],
   "source": [
    "import os\n",
    "import torch\n",
    "import pyro\n",
    "from torch.distributions import constraints as C\n",
    "from pyro.distributions import Bernoulli, Categorical, MultivariateNormal, Normal\n",
    "from pyro.distributions.util import broadcast_shape\n",
    "from pyro.infer import Trace_ELBO, TraceEnum_ELBO, config_enumerate\n",
    "import pyro.poutine as poutine\n",
    "from pyro.optim import Adam\n",
    "\n",
    "\n",
    "assert pyro.__version__.startswith('1.8.2')\n",
    "\n",
    "# We'll ue this helper to check our models are correct.\n",
    "def test_model(model, guide, loss):\n",
    "    pyro.clear_param_store()\n",
    "    loss.loss(model, guide)"
   ]
  },
  {
   "cell_type": "markdown",
   "metadata": {},
   "source": [
    "```js\n",
    "x = d.sample()\n",
    "x.shape == d.batch_saphe + d.event_shape\n",
    "```"
   ]
  },
  {
   "cell_type": "markdown",
   "metadata": {},
   "source": [
    "```js\n",
    "d.log_prob(x).shape == d.batch_shape\n",
    "```"
   ]
  },
  {
   "cell_type": "markdown",
   "metadata": {},
   "source": [
    "```js\n",
    "x = d.sample(sample_shape)\n",
    "x.shape == sample_shape + batch_shape + event_shape\n",
    "```"
   ]
  },
  {
   "cell_type": "code",
   "execution_count": 2,
   "metadata": {},
   "outputs": [],
   "source": [
    "d = Bernoulli(0.5)\n",
    "assert d.batch_shape == ()\n",
    "assert d.event_shape == ()\n",
    "x = d.sample()\n",
    "assert x.shape == ()\n",
    "assert d.log_prob(x).shape == ()\n"
   ]
  },
  {
   "cell_type": "code",
   "execution_count": 3,
   "metadata": {},
   "outputs": [],
   "source": [
    "d = MultivariateNormal(torch.zeros(3), torch.eye(3, 3))\n",
    "assert d.batch_shape == ()\n",
    "assert d.event_shape == (3,)\n",
    "x = d.sample()\n",
    "assert x.shape == (3,)           \n",
    "assert d.log_prob(x).shape == ()"
   ]
  },
  {
   "cell_type": "code",
   "execution_count": 4,
   "metadata": {},
   "outputs": [],
   "source": [
    "d = Bernoulli(0.5 * torch.ones(3,4)).to_event(1)\n",
    "assert d.batch_shape == (3,)\n",
    "assert d.event_shape == (4,)\n",
    "x = d.sample()\n",
    "assert x.shape == (3, 4)\n",
    "assert d.log_prob(x).shape == (3,)"
   ]
  },
  {
   "cell_type": "code",
   "execution_count": 5,
   "metadata": {},
   "outputs": [],
   "source": [
    "x = pyro.sample('x', Normal(0, 1).expand([10]).to_event(1))\n",
    "assert x.shape == (10, )"
   ]
  },
  {
   "cell_type": "markdown",
   "metadata": {},
   "source": [
    "Declaring independent dims with `plate`"
   ]
  },
  {
   "cell_type": "code",
   "execution_count": 6,
   "metadata": {},
   "outputs": [],
   "source": [
    "with pyro.plate('x', 200):\n",
    "    with pyro.plate('y', 200):\n",
    "        # dims -1 and -2 are independent\n",
    "        pass"
   ]
  },
  {
   "cell_type": "code",
   "execution_count": 7,
   "metadata": {},
   "outputs": [],
   "source": [
    "def model1():\n",
    "    a = pyro.sample('a', Normal(0, 1))\n",
    "    b = pyro.sample('b', Normal(torch.zeros(2), 1).to_event(1))\n",
    "    \n",
    "    with pyro.plate('c_plate', 2):\n",
    "        c = pyro.sample('c', Normal(torch.zeros(2), 1))\n",
    "        \n",
    "    with pyro.plate('d_plate', 3):\n",
    "        d = pyro.sample('d', Normal(torch.zeros(3, 4, 5), 1).to_event(2))\n",
    "        \n",
    "    assert a.shape == ()\n",
    "    assert b.shape == (2, )\n",
    "    assert c.shape == (2, )\n",
    "    assert d.shape == (3, 4, 5)\n",
    "    \n",
    "    x_axis = pyro.plate('x_axis', 3, dim=-2)\n",
    "    y_axis = pyro.plate('y_axis', 2, dim=-3)\n",
    "    with x_axis:\n",
    "        x = pyro.sample('x', Normal(0, 1))\n",
    "    with y_axis:\n",
    "        y = pyro.sample('y', Normal(0, 1))\n",
    "    with x_axis, y_axis:\n",
    "        xy = pyro.sample('xy', Normal(0, 1))\n",
    "        z = pyro.sample('z', Normal(0, 1).expand([5]).to_event(1))\n",
    "        \n",
    "    assert x.shape == (3, 1)        \n",
    "    assert y.shape == (2, 1, 1)     \n",
    "    assert xy.shape == (2, 3, 1)    \n",
    "    assert z.shape == (2, 3, 1, 5)\n",
    "    \n",
    "\n",
    "test_model(model1, model1, Trace_ELBO())"
   ]
  },
  {
   "cell_type": "markdown",
   "metadata": {},
   "source": [
    "```js\n",
    "batch dims | event dims \n",
    "-----------+----------- \n",
    "           |        a = sample(\"a\", Normal(0, 1)) \n",
    "           |2       b = sample(\"b\", Normal(zeros(2), 1) \n",
    "           |                        .to_event(1))\n",
    "           |        with plate(\"c\", 2): \n",
    "          2|            c = sample(\"c\", Normal(zeros(2), 1)) \n",
    "           |        with plate(\"d\", 3):\n",
    "          3|4 5         d = sample(\"d\", Normal(zeros(3,4,5), 1)\n",
    "           |                       .to_event(2))\n",
    "           |\n",
    "           |        x_axis = plate(\"x\", 3, dim=-2)\n",
    "           |        y_axis = plate(\"y\", 2, dim=-3)\n",
    "           |        with x_axis:\n",
    "        3 1|            x = sample(\"x\", Normal(0, 1))\n",
    "           |        with y_axis:\n",
    "      2 1 1|            y = sample(\"y\", Normal(0, 1))\n",
    "           |        with x_axis, y_axis:\n",
    "      2 3 1|            xy = sample(\"xy\", Normal(0, 1))\n",
    "      2 3 1|5           z = sample(\"z\", Normal(0, 1).expand([5])\n",
    "           |                       .to_event(1))\n",
    "```"
   ]
  },
  {
   "cell_type": "code",
   "execution_count": null,
   "metadata": {},
   "outputs": [],
   "source": []
  },
  {
   "cell_type": "code",
   "execution_count": 8,
   "metadata": {},
   "outputs": [
    {
     "name": "stdout",
     "output_type": "stream",
     "text": [
      "Trace Shapes:            \n",
      " Param Sites:            \n",
      "Sample Sites:            \n",
      "       a dist       |    \n",
      "        value       |    \n",
      "       b dist       | 2  \n",
      "        value       | 2  \n",
      " c_plate dist       |    \n",
      "        value     2 |    \n",
      "       c dist     2 |    \n",
      "        value     2 |    \n",
      " d_plate dist       |    \n",
      "        value     3 |    \n",
      "       d dist     3 | 4 5\n",
      "        value     3 | 4 5\n",
      "  x_axis dist       |    \n",
      "        value     3 |    \n",
      "  y_axis dist       |    \n",
      "        value     2 |    \n",
      "       x dist   3 1 |    \n",
      "        value   3 1 |    \n",
      "       y dist 2 1 1 |    \n",
      "        value 2 1 1 |    \n",
      "      xy dist 2 3 1 |    \n",
      "        value 2 3 1 |    \n",
      "       z dist 2 3 1 | 5  \n",
      "        value 2 3 1 | 5  \n"
     ]
    }
   ],
   "source": [
    "trace = poutine.trace(model1).get_trace()\n",
    "print(trace.format_shapes())"
   ]
  },
  {
   "cell_type": "code",
   "execution_count": 9,
   "metadata": {},
   "outputs": [],
   "source": [
    "data = torch.arange(100)\n",
    "\n",
    "def model2():\n",
    "    mean = pyro.param('mean', torch.zeros(len(data)))\n",
    "    with pyro.plate('data', len(data), subsample_size=10) as ind:\n",
    "        assert len(ind) == 10\n",
    "        batch = data[ind]\n",
    "        x = pyro.sample('x', Normal(mean[ind], 1), obs=batch)\n",
    "        assert len(x) == 10 \n",
    "        \n",
    "test_model(model2, lambda: None, Trace_ELBO())           \n"
   ]
  },
  {
   "cell_type": "markdown",
   "metadata": {},
   "source": [
    "```js\n",
    "      max_plate_nesting = 3\n",
    "           |<--->|\n",
    "enumeration|batch|event\n",
    "-----------+-----+-----\n",
    "           |. . .|      a = sample(\"a\", Normal(0, 1))\n",
    "           |. . .|2     b = sample(\"b\", Normal(zeros(2), 1)\n",
    "           |     |                      .to_event(1))\n",
    "           |     |      with plate(\"c\", 2):\n",
    "           |. . 2|          c = sample(\"c\", Normal(zeros(2), 1))\n",
    "           |     |      with plate(\"d\", 3):\n",
    "           |. . 3|4 5       d = sample(\"d\", Normal(zeros(3,4,5), 1)\n",
    "           |     |                     .to_event(2))\n",
    "           |     |\n",
    "           |     |      x_axis = plate(\"x\", 3, dim=-2)\n",
    "           |     |      y_axis = plate(\"y\", 2, dim=-3)\n",
    "           |     |      with x_axis:\n",
    "           |. 3 1|          x = sample(\"x\", Normal(0, 1))\n",
    "           |     |      with y_axis:\n",
    "           |2 1 1|          y = sample(\"y\", Normal(0, 1))\n",
    "           |     |      with x_axis, y_axis:\n",
    "           |2 3 1|          xy = sample(\"xy\", Normal(0, 1))\n",
    "           |2 3 1|5         z = sample(\"z\", Normal(0, 1).expand([5])\n",
    "           |     |                     .to_event(1))\n",
    "\n",
    "```"
   ]
  },
  {
   "cell_type": "code",
   "execution_count": 11,
   "metadata": {},
   "outputs": [],
   "source": [
    "@config_enumerate\n",
    "def model3():\n",
    "    p = pyro.param('p', torch.arange(6) / 6)\n",
    "    locs = pyro.param('locs', torch.tensor([-1., 1.]))\n",
    "    \n",
    "    a = pyro.sample('a', Categorical(torch.ones(6) / 6))\n",
    "    b = pyro.sample('b', Bernoulli(p[a])) # depends on a\n",
    "    \n",
    "    with pyro.plate('c_plate', 4):\n",
    "        c = pyro.sample('c', Bernoulli(0.3))\n",
    "        with pyro.plate('d_palte', 5):\n",
    "            d = pyro.sample('d', Bernoulli(0.4))\n",
    "            eloc = locs[d.long()].unsqueeze(-1)\n",
    "            escale = torch.arange(1, 8)\n",
    "            e = pyro.sample('e', Normal(eloc, escale).to_event(1)) # depends on d\n",
    "            \n",
    "    #                   enumerated|batch|event dims\n",
    "    assert a.shape == (         6, 1, 1   )  # Six enumerated values of the Categorical.\n",
    "    assert b.shape == (      2, 1, 1, 1   )  # Two enumerated Bernoullis, unexpanded.\n",
    "    assert c.shape == (   2, 1, 1, 1, 1   )  # Only two Bernoullis, unexpanded.\n",
    "    assert d.shape == (2, 1, 1, 1, 1, 1   )  # Only two Bernoullis, unexpanded.\n",
    "    assert e.shape == (2, 1, 1, 1, 5, 4, 7)  # This is sampled and depends on d.\n",
    "    \n",
    "    assert eloc.shape   == (2, 1, 1, 1, 1, 1, 1,)\n",
    "    assert escale.shape == (                  7,)\n",
    "\n",
    "test_model(model3, model3, TraceEnum_ELBO(max_plate_nesting=2))"
   ]
  },
  {
   "cell_type": "markdown",
   "metadata": {},
   "source": [
    "```js\n",
    "     max_plate_nesting = 2\n",
    "            |<->|\n",
    "enumeration batch event\n",
    "------------|---|-----\n",
    "           6|1 1|     a = pyro.sample(\"a\", Categorical(torch.ones(6) / 6))\n",
    "         2 1|1 1|     b = pyro.sample(\"b\", Bernoulli(p[a]))\n",
    "            |   |     with pyro.plate(\"c_plate\", 4):\n",
    "       2 1 1|1 1|         c = pyro.sample(\"c\", Bernoulli(0.3))\n",
    "            |   |         with pyro.plate(\"d_plate\", 5):\n",
    "     2 1 1 1|1 1|             d = pyro.sample(\"d\", Bernoulli(0.4))\n",
    "     2 1 1 1|1 1|1            e_loc = locs[d.long()].unsqueeze(-1)\n",
    "            |   |7            e_scale = torch.arange(1., 8.)\n",
    "     2 1 1 1|5 4|7            e = pyro.sample(\"e\", Normal(e_loc, e_scale)\n",
    "            |   |                             .to_event(1))\n",
    "```"
   ]
  },
  {
   "cell_type": "code",
   "execution_count": 12,
   "metadata": {},
   "outputs": [],
   "source": [
    "W = 8\n",
    "H = 10\n",
    "sparse = torch.LongTensor([[3, 2], [3, 5], [3, 9], [7, 1]])\n",
    "ENUM = None \n",
    "\n",
    "def fun(observe):\n",
    "    px = pyro.param('px', torch.tensor(.1), constraint=C.unit_interval)\n",
    "    py = pyro.param('py', torch.tensor(.1), constraint=C.unit_interval)\n",
    "    xaxis = pyro.plate('xaxis', W, dim=-2)\n",
    "    yaxis = pyro.plate('yaxis', H, dim=-1)\n",
    "    \n",
    "    with xaxis:\n",
    "        xactive = pyro.sample('xactive', Bernoulli(px))\n",
    "    with yaxis:\n",
    "        yactive = pyro.sample('yactive', Bernoulli(py))\n",
    "        \n",
    "    if ENUM:\n",
    "        assert xactive.shape == (2, 1, 1)\n",
    "        assert yactive.shape == (2, 1, 1, 1)\n",
    "    else:\n",
    "        assert xactive.shape == (W, 1)\n",
    "        assert yactive.shape == (H, )\n",
    "        \n",
    "    p = 0.1 + 0.5 * xactive * yactive \n",
    "    \n",
    "    if ENUM:\n",
    "        assert p.shape == (2, 2, 1, 1)\n",
    "    else:\n",
    "        assert p.shape == (W, H)\n",
    "        \n",
    "    dense_pixels = p.new_zeros(broadcast_shape(p.shape, (W, H)))\n",
    "    \n",
    "    for x, y in sparse:\n",
    "        dense_pixels[..., x, y] = 1\n",
    "    if ENUM:\n",
    "        assert dense_pixels.shape == (2, 2, W, H)\n",
    "    else:\n",
    "        assert dense_pixels.shape == (W, H)\n",
    "        \n",
    "    with xaxis, yaxis:\n",
    "        if observe:\n",
    "            pyro.sample('pixels', Bernoulli(p), obs=dense_pixels)\n",
    "            \n",
    "\n",
    "def model4():\n",
    "    fun(True)\n",
    "    \n",
    "def guide():\n",
    "    fun(False)\n",
    "    \n",
    "\n",
    "# Test without enumeration.\n",
    "ENUM = False\n",
    "test_model(model4, guide, Trace_ELBO())\n",
    "\n",
    "# Test with enumeration.\n",
    "ENUM = True\n",
    "test_model(model4, config_enumerate(guide, \"parallel\"),\n",
    "           TraceEnum_ELBO(max_plate_nesting=2))  \n",
    "    "
   ]
  },
  {
   "cell_type": "code",
   "execution_count": null,
   "metadata": {},
   "outputs": [],
   "source": []
  }
 ],
 "metadata": {
  "kernelspec": {
   "display_name": "Python 3.10.4 ('pytorch')",
   "language": "python",
   "name": "python3"
  },
  "language_info": {
   "codemirror_mode": {
    "name": "ipython",
    "version": 3
   },
   "file_extension": ".py",
   "mimetype": "text/x-python",
   "name": "python",
   "nbconvert_exporter": "python",
   "pygments_lexer": "ipython3",
   "version": "3.10.4"
  },
  "orig_nbformat": 4,
  "vscode": {
   "interpreter": {
    "hash": "b9784455f3e9463d14dc3263833cb7a66fe8439c0a7d698fd0d368a30d65f5d0"
   }
  }
 },
 "nbformat": 4,
 "nbformat_minor": 2
}

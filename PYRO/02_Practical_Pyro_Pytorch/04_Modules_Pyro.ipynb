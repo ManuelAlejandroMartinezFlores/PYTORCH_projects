{
 "cells": [
  {
   "cell_type": "markdown",
   "metadata": {},
   "source": [
    "# 4 Modules in Pyro"
   ]
  },
  {
   "cell_type": "code",
   "execution_count": 2,
   "metadata": {},
   "outputs": [],
   "source": [
    "import os\n",
    "import torch\n",
    "import torch.nn as nn\n",
    "import pyro\n",
    "import pyro.distributions as D\n",
    "import pyro.poutine as poutine\n",
    "from torch.distributions import constraints as C\n",
    "from pyro.nn import PyroModule, PyroParam, PyroSample\n",
    "from pyro.nn.module import to_pyro_module_\n",
    "from pyro.infer import SVI, Trace_ELBO\n",
    "from pyro.infer.autoguide import AutoNormal\n",
    "from pyro.optim import Adam\n"
   ]
  },
  {
   "cell_type": "code",
   "execution_count": 3,
   "metadata": {},
   "outputs": [],
   "source": [
    "class Linear(nn.Module):\n",
    "    def __init__(self, insize, outsize):\n",
    "        super().__init__()\n",
    "        self.w = nn.Parameter(torch.randn(insize, outsize))\n",
    "        self.b = nn.Parameter(torch.randn(outsize))\n",
    "        \n",
    "    def forward(self, x):\n",
    "        return self.b + x @ self.w \n",
    "    \n",
    "    \n",
    "linear = Linear(5, 2)\n",
    "example = linear(torch.randn(100, 5))\n",
    "assert example.shape == (100, 2)"
   ]
  },
  {
   "cell_type": "code",
   "execution_count": 4,
   "metadata": {},
   "outputs": [],
   "source": [
    "class PyroLinear(Linear, PyroModule):\n",
    "    pass \n",
    "\n",
    "linear = PyroLinear(5, 2)\n",
    "example = linear(torch.randn(100, 5))\n",
    "assert example.shape == (100, 2)"
   ]
  },
  {
   "cell_type": "code",
   "execution_count": 5,
   "metadata": {},
   "outputs": [],
   "source": [
    "linear = PyroModule[Linear](5, 2)\n",
    "example = linear(torch.randn(100, 5))\n",
    "assert example.shape == (100, 2)"
   ]
  },
  {
   "cell_type": "code",
   "execution_count": 6,
   "metadata": {},
   "outputs": [],
   "source": [
    "class BayesianLinear(PyroModule):\n",
    "    def __init__(self, insize, outsize):\n",
    "        super().__init__()\n",
    "        self.bias = PyroSample(D.LogNormal(0, 1).expand([outsize]).to_event(1))\n",
    "        self.weight = PyroSample(D.Normal(0, 1).expand([insize, outsize]).to_event(2))\n",
    "        \n",
    "    def forward(self, x):\n",
    "        return self.bias + x @ self.weight\n",
    "    \n",
    "linear = BayesianLinear(5, 2)\n",
    "example = linear(torch.randn(100, 5))\n",
    "assert example.shape == (100, 2)"
   ]
  },
  {
   "cell_type": "markdown",
   "metadata": {},
   "source": [
    "Accesing attributes inside plates"
   ]
  },
  {
   "cell_type": "code",
   "execution_count": 7,
   "metadata": {},
   "outputs": [],
   "source": [
    "from turtle import forward\n",
    "\n",
    "\n",
    "class NormalModel(PyroModule):\n",
    "    def __init__(self):\n",
    "        super().__init__()\n",
    "        self.loc = PyroSample(D.Normal(0, 1))\n",
    "        \n",
    "class GlobalModel(NormalModel):\n",
    "    def forward(self, data):\n",
    "        loc = self.loc \n",
    "        assert loc.shape == ()\n",
    "        with pyro.plate('data', len(data)):\n",
    "            pyro.sample('obs', D.Normal(loc, 1), obs=data)\n",
    "            \n",
    "            \n",
    "class LocalModel(NormalModel):\n",
    "    def forward(self, data):\n",
    "        with pyro.plate('data', len(data)):\n",
    "            loc = self.loc \n",
    "            assert loc.shape == (len(data), )\n",
    "            pyro.sample('obs', D.Normal(loc, 1), obs=data)\n",
    "            \n",
    "data = torch.randn(10)\n",
    "LocalModel()(data)\n",
    "GlobalModel()(data)"
   ]
  },
  {
   "cell_type": "code",
   "execution_count": 13,
   "metadata": {},
   "outputs": [],
   "source": [
    "class Model(PyroModule):\n",
    "    def __init__(self, insize, outsize):\n",
    "        super().__init__()\n",
    "        self.linear = BayesianLinear(insize, outsize)\n",
    "        self.scale = PyroSample(D.LogNormal(0, 1))\n",
    "        \n",
    "    def forward(self, x, y=None):\n",
    "        loc = self.linear(x)\n",
    "        scale = self.scale\n",
    "        with pyro.plate('data', len(x)):\n",
    "            return pyro.sample('obs', D.Normal(loc, scale).to_event(1), obs=y)"
   ]
  },
  {
   "cell_type": "code",
   "execution_count": 14,
   "metadata": {},
   "outputs": [],
   "source": [
    "from tqdm import trange"
   ]
  },
  {
   "cell_type": "code",
   "execution_count": 16,
   "metadata": {},
   "outputs": [
    {
     "name": "stderr",
     "output_type": "stream",
     "text": [
      "loss 1.6734: 100%|██████████| 501/501 [00:02<00:00, 219.04it/s]\n"
     ]
    }
   ],
   "source": [
    "pyro.clear_param_store()\n",
    "pyro.set_rng_seed(1)\n",
    "\n",
    "model = Model(5, 2)\n",
    "x = torch.randn(100, 5)\n",
    "y = model(x)\n",
    "\n",
    "guide = AutoNormal(model)\n",
    "svi = SVI(model, guide, Adam({'lr': 0.01}), Trace_ELBO())\n",
    "\n",
    "pbar = trange(501)\n",
    "for step in pbar:\n",
    "    loss = svi.step(x, y) / y.numel()\n",
    "    if step % 100 == 0:\n",
    "        pbar.set_description(f'loss {loss:.4f}')"
   ]
  },
  {
   "cell_type": "code",
   "execution_count": 17,
   "metadata": {},
   "outputs": [
    {
     "name": "stdout",
     "output_type": "stream",
     "text": [
      "sample linear.bias torch.Size([2])\n",
      "sample linear.weight torch.Size([5, 2])\n",
      "sample scale torch.Size([])\n",
      "sample data torch.Size([100])\n",
      "sample obs torch.Size([100, 2])\n"
     ]
    }
   ],
   "source": [
    "with poutine.trace() as tr:\n",
    "    model(x)\n",
    "for site in tr.trace.nodes.values():\n",
    "    print(site['type'], site['name'], site['value'].shape)"
   ]
  },
  {
   "cell_type": "code",
   "execution_count": null,
   "metadata": {},
   "outputs": [],
   "source": []
  }
 ],
 "metadata": {
  "kernelspec": {
   "display_name": "Python 3.10.4 ('pytorch')",
   "language": "python",
   "name": "python3"
  },
  "language_info": {
   "codemirror_mode": {
    "name": "ipython",
    "version": 3
   },
   "file_extension": ".py",
   "mimetype": "text/x-python",
   "name": "python",
   "nbconvert_exporter": "python",
   "pygments_lexer": "ipython3",
   "version": "3.10.4"
  },
  "orig_nbformat": 4,
  "vscode": {
   "interpreter": {
    "hash": "b9784455f3e9463d14dc3263833cb7a66fe8439c0a7d698fd0d368a30d65f5d0"
   }
  }
 },
 "nbformat": 4,
 "nbformat_minor": 2
}
